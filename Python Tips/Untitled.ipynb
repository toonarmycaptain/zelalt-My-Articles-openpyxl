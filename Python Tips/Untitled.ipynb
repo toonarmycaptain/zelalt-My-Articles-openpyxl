{
 "cells": [
  {
   "cell_type": "code",
   "execution_count": 1,
   "id": "ecb8c91b",
   "metadata": {},
   "outputs": [],
   "source": [
    "import itertools"
   ]
  },
  {
   "cell_type": "code",
   "execution_count": null,
   "id": "65fc692b",
   "metadata": {},
   "outputs": [],
   "source": []
  },
  {
   "cell_type": "code",
   "execution_count": 16,
   "id": "dcba0e25",
   "metadata": {},
   "outputs": [],
   "source": [
    "# for i in itertools.count(10, 2):\n",
    "#     print(i)"
   ]
  },
  {
   "cell_type": "code",
   "execution_count": 19,
   "id": "7e38f31e",
   "metadata": {},
   "outputs": [
    {
     "name": "stdout",
     "output_type": "stream",
     "text": [
      "A\n",
      "B\n",
      "C\n",
      "D\n",
      "E\n",
      "F\n",
      "J\n",
      "K\n",
      "C\n"
     ]
    }
   ],
   "source": [
    "for i in itertools.chain('ABC', 'DEF', 'JKC'):\n",
    "    print(i)"
   ]
  },
  {
   "cell_type": "code",
   "execution_count": 20,
   "id": "516c2b6c",
   "metadata": {},
   "outputs": [
    {
     "name": "stdout",
     "output_type": "stream",
     "text": [
      "A\n",
      "B\n",
      "C\n",
      "D\n",
      "E\n",
      "F\n",
      "J\n",
      "K\n",
      "C\n"
     ]
    }
   ],
   "source": [
    "for i in itertools.chain.from_iterable(['ABC', 'DEF', 'JKC']):\n",
    "    print(i)"
   ]
  },
  {
   "cell_type": "code",
   "execution_count": 23,
   "id": "41887b56",
   "metadata": {},
   "outputs": [
    {
     "data": {
      "text/plain": [
       "<itertools.chain at 0x224f889bc70>"
      ]
     },
     "execution_count": 23,
     "metadata": {},
     "output_type": "execute_result"
    }
   ],
   "source": [
    "itertools.chain.from_iterable(['ABC', 'DEF', 'JKC'])"
   ]
  },
  {
   "cell_type": "code",
   "execution_count": 24,
   "id": "96c1f89d",
   "metadata": {},
   "outputs": [
    {
     "data": {
      "text/plain": [
       "generator"
      ]
     },
     "execution_count": 24,
     "metadata": {},
     "output_type": "execute_result"
    }
   ],
   "source": [
    "import types\n",
    "types.GeneratorType"
   ]
  },
  {
   "cell_type": "code",
   "execution_count": 25,
   "id": "318ddb8f",
   "metadata": {},
   "outputs": [
    {
     "data": {
      "text/plain": [
       "False"
      ]
     },
     "execution_count": 25,
     "metadata": {},
     "output_type": "execute_result"
    }
   ],
   "source": [
    "isinstance(itertools.chain.from_iterable(['ABC', 'DEF', 'JKC']), types.GeneratorType)"
   ]
  }
 ],
 "metadata": {
  "kernelspec": {
   "display_name": "Python 3 (ipykernel)",
   "language": "python",
   "name": "python3"
  },
  "language_info": {
   "codemirror_mode": {
    "name": "ipython",
    "version": 3
   },
   "file_extension": ".py",
   "mimetype": "text/x-python",
   "name": "python",
   "nbconvert_exporter": "python",
   "pygments_lexer": "ipython3",
   "version": "3.8.8"
  }
 },
 "nbformat": 4,
 "nbformat_minor": 5
}
